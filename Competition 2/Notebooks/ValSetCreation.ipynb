{
 "cells": [
  {
   "cell_type": "markdown",
   "metadata": {},
   "source": [
    "# Notebook used to create a validation set out of the training set"
   ]
  },
  {
   "cell_type": "code",
   "execution_count": null,
   "metadata": {},
   "outputs": [],
   "source": [
    "import os, random, math"
   ]
  },
  {
   "cell_type": "code",
   "execution_count": null,
   "metadata": {},
   "outputs": [],
   "source": [
    "cwd = os.getcwd()\n",
    "datasetName = 'Segmentation_Dataset'\n",
    "validationDir = os.path.join(cwd, datasetName, 'validation')\n",
    "trainingDir = os.path.join(cwd, datasetName, 'training')\n",
    "nTrainImg = len(os.listdir(os.path.join(trainingDir, 'images', 'img')))\n",
    "valRatio = 11\n",
    "\n",
    "if not os.path.exists(validationDir):\n",
    "    os.makedirs(validationDir)\n",
    "    if not os.path.exists(os.path.join(validationDir, 'images', 'img')):\n",
    "        os.makedirs(os.path.join(validationDir, 'images', 'img'))\n",
    "    if not os.path.exists(os.path.join(validationDir, 'masks', 'img')):\n",
    "        os.makedirs(os.path.join(validationDir, 'masks', 'img'))\n",
    "\n",
    "random.seed(1234)\n",
    "if valRatio > 1:\n",
    "    raise Exception('The validation ratio must be <= 1.')\n",
    "\n",
    "for i in range(math.floor(valRatio * nTrainImg)):\n",
    "    chosenFile = random.choice(os.listdir(os.path.join(trainingDir, 'images', 'img')))\n",
    "    os.rename(os.path.join(trainingDir, 'images', 'img', chosenFile), os.path.join(validationDir, 'images', 'img', chosenFile))\n",
    "    os.rename(os.path.join(trainingDir, 'masks', 'img', chosenFile), os.path.join(validationDir, 'masks', 'img', chosenFile))"
   ]
  }
 ],
 "metadata": {
  "kernelspec": {
   "display_name": "PyCharm (Face2Text)",
   "language": "python",
   "name": "pycharm-548e7b6f"
  },
  "language_info": {
   "codemirror_mode": {
    "name": "ipython",
    "version": 3
   },
   "file_extension": ".py",
   "mimetype": "text/x-python",
   "name": "python",
   "nbconvert_exporter": "python",
   "pygments_lexer": "ipython3",
   "version": "3.7.9"
  }
 },
 "nbformat": 4,
 "nbformat_minor": 4
}
